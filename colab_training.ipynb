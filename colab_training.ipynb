{
 "cells": [
  {
   "cell_type": "markdown",
   "metadata": {},
   "source": [
    "# JEPA-NNUE Stage 0 Training on Colab\n",
    "\n",
    "This notebook downloads the Lichess evaluation dataset, installs the dependencies and runs the included `training.py` script."
   ]
  },
  {
   "cell_type": "code",
   "execution_count": null,
   "metadata": {},
   "outputs": [],
   "source": [
    "# Clone the repo (only needed if running in a fresh session)\n",
    "!git clone https://example.com/chessjessai.git -b main chessjessai || true\n",
    "%cd chessjessai"
   ]
  },
  {
   "cell_type": "code",
   "execution_count": null,
   "metadata": {},
   "outputs": [],
   "source": [
    "# Install Python dependencies\n",
    "!pip install -q torch chess zstandard"
   ]
  },
  {
   "cell_type": "code",
   "execution_count": null,
   "metadata": {},
   "outputs": [],
   "source": [
    "# Build the optional C acceleration library\n",
    "!gcc -O3 -march=native -fPIC -shared fast_linear.c -o libfast_linear.so"
   ]
  },
  {
   "cell_type": "code",
   "execution_count": null,
   "metadata": {},
   "outputs": [],
   "source": [
    "# Download the dataset (approx 1.7GB)\n",
    "!wget https://database.lichess.org/lichess_db_eval.jsonl.zst -O lichess_db_eval.jsonl.zst"
   ]
  },
  {
   "cell_type": "code",
   "execution_count": null,
   "metadata": {},
   "outputs": [],
   "source": [
    "# Start training\n",
    "!python training.py --data lichess_db_eval.jsonl.zst --epochs 1 --batch 64 --device cuda"
   ]
  }
 ],
 "metadata": {
  "kernelspec": {
   "display_name": "Python 3",
   "language": "python",
   "name": "python3"
  },
  "language_info": {
   "name": "python",
   "pygments_lexer": "ipython3"
  }
 },
 "nbformat": 4,
 "nbformat_minor": 5
}
